{
 "cells": [
  {
   "cell_type": "code",
   "execution_count": 12,
   "metadata": {},
   "outputs": [
    {
     "name": "stdout",
     "output_type": "stream",
     "text": [
      "今天是当前季度的第 1 个月\n"
     ]
    }
   ],
   "source": [
    "import datetime\n",
    "\n",
    "# 获取今天是当前季度的第几个月\n",
    "def get_month_in_current_quarter():\n",
    "    # 获取当前日期\n",
    "    today = datetime.datetime.now()\n",
    "    month = today.month\n",
    "    month_in_quarter = (month - 1) % 3 + 1\n",
    "    return month_in_quarter\n",
    "\n",
    "\n",
    "month_in_quarter = get_month_in_current_quarter()\n",
    "print(f\"今天是当前季度的第 {month_in_quarter} 个月\")"
   ]
  }
 ],
 "metadata": {
  "kernelspec": {
   "display_name": "Python 3.8.19 ('env38')",
   "language": "python",
   "name": "python3"
  },
  "language_info": {
   "codemirror_mode": {
    "name": "ipython",
    "version": 3
   },
   "file_extension": ".py",
   "mimetype": "text/x-python",
   "name": "python",
   "nbconvert_exporter": "python",
   "pygments_lexer": "ipython3",
   "version": "3.8.19"
  },
  "orig_nbformat": 4,
  "vscode": {
   "interpreter": {
    "hash": "20bb7eca09d9275ecfce8176e82d1940c43d3952a8b681475aaa1be009fd3a02"
   }
  }
 },
 "nbformat": 4,
 "nbformat_minor": 2
}
